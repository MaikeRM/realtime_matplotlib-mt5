{
 "cells": [
  {
   "cell_type": "code",
   "execution_count": null,
   "source": [
    "import requests\r\n",
    "from bs4 import BeautifulSoup"
   ],
   "outputs": [],
   "metadata": {}
  },
  {
   "cell_type": "code",
   "execution_count": null,
   "source": [
    "url = 'https://br.financas.yahoo.com/quote/PETR4.SA?p=PETR4.SA&.tsrc=fin-srch'\r\n",
    "r = requests.get(url)"
   ],
   "outputs": [],
   "metadata": {}
  },
  {
   "cell_type": "code",
   "execution_count": null,
   "source": [
    "import datetime\r\n",
    "import matplotlib.pyplot as plt\r\n",
    "import pandas as pd\r\n",
    "import time\r\n",
    "from pandas.plotting import register_matplotlib_converters\r\n",
    "register_matplotlib_converters()\r\n",
    "import MetaTrader5 as mt5"
   ],
   "outputs": [],
   "metadata": {}
  },
  {
   "cell_type": "code",
   "execution_count": null,
   "source": [
    "# conecte-se ao MetaTrader 5\r\n",
    "if not mt5.initialize():\r\n",
    "    print(\"initialize() failed\")\r\n",
    "    mt5.shutdown()"
   ],
   "outputs": [],
   "metadata": {}
  },
  {
   "cell_type": "code",
   "execution_count": null,
   "source": [
    "# consultamos o estado e os parâmetros de conexão\r\n",
    "print(mt5.terminal_info())\r\n",
    "# obtemos informações sobre a versão do MetaTrader 5\r\n",
    "print(mt5.version())"
   ],
   "outputs": [],
   "metadata": {}
  },
  {
   "cell_type": "code",
   "execution_count": null,
   "source": [
    "simb = 'PETR4'\r\n",
    "mt5.symbol_info_tick('PETR4')"
   ],
   "outputs": [],
   "metadata": {}
  },
  {
   "cell_type": "code",
   "execution_count": null,
   "source": [
    "import matplotlib.animation as animation\r\n",
    "from matplotlib import style"
   ],
   "outputs": [],
   "metadata": {}
  },
  {
   "cell_type": "code",
   "execution_count": null,
   "source": [
    "c = mt5.symbol_info_tick('PETRI276')\r\n",
    "p = mt5.symbol_info_tick('PETRU276')\r\n",
    "\r\n",
    "call = c.last\r\n",
    "put = p.last"
   ],
   "outputs": [],
   "metadata": {}
  },
  {
   "cell_type": "code",
   "execution_count": null,
   "source": [
    "import csv\r\n",
    "import datetime\r\n",
    "import time\r\n",
    "import MetaTrader5 as mt5\r\n",
    "\r\n",
    "# conecte-se ao MetaTrader 5\r\n",
    "if not mt5.initialize():\r\n",
    "    print(\"initialize() failed\")\r\n",
    "    mt5.shutdown()\r\n",
    "\r\n",
    "a = mt5.symbol_info_tick('PETR4')\r\n",
    "c = mt5.symbol_info_tick('PETRI276')\r\n",
    "p = mt5.symbol_info_tick('PETRU276')\r\n",
    "\r\n",
    "x_value = 0\r\n",
    "acao = a.last\r\n",
    "call = c.last\r\n",
    "put = p.last\r\n",
    "\r\n",
    "fieldnames = [\"x_value\", \"call\", \"put\", \"acao\"]\r\n",
    "\r\n",
    "with open('data.csv', 'w') as csv_file:\r\n",
    "    csv_writer = csv.DictWriter(csv_file, fieldnames=fieldnames)\r\n",
    "    csv_writer.writeheader()\r\n",
    "\r\n",
    "while True:\r\n",
    "\r\n",
    "    with open('data.csv', 'a') as csv_file:\r\n",
    "        csv_writer = csv.DictWriter(csv_file, fieldnames=fieldnames)\r\n",
    "\r\n",
    "        info = {\r\n",
    "            \"x_value\": x_value,\r\n",
    "            \"call\": call,\r\n",
    "            \"put\": put,\r\n",
    "            \"acao\": acao\r\n",
    "        }\r\n",
    "\r\n",
    "        csv_writer.writerow(info)\r\n",
    "        print(x_value, call, put, acao)\r\n",
    "\r\n",
    "        time_stamp = datetime.datetime.now()\r\n",
    "        x_value = time_stamp.strftime('%Y-%m-%d %H:%M:%S')\r\n",
    "\r\n",
    "        a = mt5.symbol_info_tick('PETR4')\r\n",
    "        c = mt5.symbol_info_tick('PETRI276')\r\n",
    "        p = mt5.symbol_info_tick('PETRU276')\r\n",
    "        \r\n",
    "        acao = a.last\r\n",
    "        call = c.last\r\n",
    "        put = p.last\r\n",
    "\r\n",
    "    time.sleep(3)"
   ],
   "outputs": [],
   "metadata": {}
  },
  {
   "cell_type": "code",
   "execution_count": null,
   "source": [],
   "outputs": [],
   "metadata": {}
  }
 ],
 "metadata": {
  "orig_nbformat": 4,
  "language_info": {
   "name": "python",
   "version": "3.9.5",
   "mimetype": "text/x-python",
   "codemirror_mode": {
    "name": "ipython",
    "version": 3
   },
   "pygments_lexer": "ipython3",
   "nbconvert_exporter": "python",
   "file_extension": ".py"
  },
  "kernelspec": {
   "name": "python3",
   "display_name": "Python 3.9.5 64-bit"
  },
  "interpreter": {
   "hash": "b3d3522493934ff0138aee2c6dff330d5dccf278757c2f33119be5c9d92446bf"
  }
 },
 "nbformat": 4,
 "nbformat_minor": 2
}