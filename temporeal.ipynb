{
 "cells": [
  {
   "cell_type": "code",
   "execution_count": 4,
   "metadata": {},
   "outputs": [
    {
     "name": "stderr",
     "output_type": "stream",
     "text": [
      "c:\\Users\\maike\\anaconda3\\lib\\site-packages\\numpy\\_distributor_init.py:30: UserWarning: loaded more than 1 DLL from .libs:\n",
      "c:\\Users\\maike\\anaconda3\\lib\\site-packages\\numpy\\.libs\\libopenblas.EL2C6PLE4ZYW3ECEVIV3OXXGRN2NRFM2.gfortran-win_amd64.dll\n",
      "c:\\Users\\maike\\anaconda3\\lib\\site-packages\\numpy\\.libs\\libopenblas.PYQHXLVVQ7VESDPUVUADXEVJOBGHJPAY.gfortran-win_amd64.dll\n",
      "  warnings.warn(\"loaded more than 1 DLL from .libs:\"\n"
     ]
    }
   ],
   "source": [
    "import datetime\n",
    "import matplotlib.pyplot as plt\n",
    "import pandas as pd\n",
    "import time\n",
    "from pandas.plotting import register_matplotlib_converters\n",
    "register_matplotlib_converters()\n",
    "import MetaTrader5 as mt5"
   ]
  },
  {
   "cell_type": "code",
   "execution_count": 5,
   "metadata": {},
   "outputs": [],
   "source": [
    "# conecte-se ao MetaTrader 5\n",
    "if not mt5.initialize():\n",
    "    print(\"initialize() failed\")\n",
    "    mt5.shutdown()"
   ]
  },
  {
   "cell_type": "code",
   "execution_count": 6,
   "metadata": {},
   "outputs": [
    {
     "name": "stdout",
     "output_type": "stream",
     "text": [
      "TerminalInfo(community_account=True, community_connection=True, connected=True, dlls_allowed=False, trade_allowed=False, tradeapi_disabled=False, email_enabled=False, ftp_enabled=False, notifications_enabled=False, mqid=False, build=3300, maxbars=100000, codepage=1252, ping_last=20959, community_balance=0.0, retransmission=0.282570367105346, company='MetaQuotes Software Corp.', name='MetaTrader 5', language='Portuguese (Brazil)', path='C:\\\\Program Files\\\\MetaTrader 5', data_path='C:\\\\Users\\\\maike\\\\AppData\\\\Roaming\\\\MetaQuotes\\\\Terminal\\\\D0E8209F77C8CF37AD8BF550E51FF075', commondata_path='C:\\\\Users\\\\maike\\\\AppData\\\\Roaming\\\\MetaQuotes\\\\Terminal\\\\Common')\n",
      "(500, 3300, '20 May 2022')\n"
     ]
    }
   ],
   "source": [
    "# consultamos o estado e os parâmetros de conexão\n",
    "print(mt5.terminal_info())\n",
    "# obtemos informações sobre a versão do MetaTrader 5\n",
    "print(mt5.version())"
   ]
  },
  {
   "cell_type": "code",
   "execution_count": 9,
   "metadata": {},
   "outputs": [
    {
     "data": {
      "text/plain": [
       "Tick(time=1653939900, bid=3.84, ask=3.86, last=3.85, volume=500, time_msc=1653939900282, flags=4, volume_real=500.0)"
      ]
     },
     "execution_count": 9,
     "metadata": {},
     "output_type": "execute_result"
    }
   ],
   "source": [
    "simb = 'MGLU3'\n",
    "mt5.symbol_info_tick(simb)"
   ]
  },
  {
   "cell_type": "code",
   "execution_count": null,
   "metadata": {},
   "outputs": [],
   "source": [
    "import matplotlib.animation as animation\n",
    "from matplotlib import style"
   ]
  },
  {
   "cell_type": "code",
   "execution_count": null,
   "metadata": {},
   "outputs": [],
   "source": [
    "c = mt5.symbol_info_tick('PETRI276')\n",
    "p = mt5.symbol_info_tick('PETRU276')\n",
    "\n",
    "call = c.last\n",
    "put = p.last"
   ]
  },
  {
   "cell_type": "code",
   "execution_count": null,
   "metadata": {},
   "outputs": [],
   "source": [
    "import csv\n",
    "import datetime\n",
    "import time\n",
    "import MetaTrader5 as mt5\n",
    "\n",
    "# conecte-se ao MetaTrader 5\n",
    "if not mt5.initialize():\n",
    "    print(\"initialize() failed\")\n",
    "    mt5.shutdown()\n",
    "\n",
    "a = mt5.symbol_info_tick('PETR4')\n",
    "c = mt5.symbol_info_tick('PETRI276')\n",
    "p = mt5.symbol_info_tick('PETRU276')\n",
    "\n",
    "x_value = 0\n",
    "acao = a.last\n",
    "call = c.last\n",
    "put = p.last\n",
    "\n",
    "fieldnames = [\"x_value\", \"call\", \"put\", \"acao\"]\n",
    "\n",
    "with open('data.csv', 'w') as csv_file:\n",
    "    csv_writer = csv.DictWriter(csv_file, fieldnames=fieldnames)\n",
    "    csv_writer.writeheader()\n",
    "\n",
    "while True:\n",
    "\n",
    "    with open('data.csv', 'a') as csv_file:\n",
    "        csv_writer = csv.DictWriter(csv_file, fieldnames=fieldnames)\n",
    "\n",
    "        info = {\n",
    "            \"x_value\": x_value,\n",
    "            \"call\": call,\n",
    "            \"put\": put,\n",
    "            \"acao\": acao\n",
    "        }\n",
    "\n",
    "        csv_writer.writerow(info)\n",
    "        print(x_value, call, put, acao)\n",
    "\n",
    "        time_stamp = datetime.datetime.now()\n",
    "        x_value = time_stamp.strftime('%Y-%m-%d %H:%M:%S')\n",
    "\n",
    "        a = mt5.symbol_info_tick('PETR4')\n",
    "        c = mt5.symbol_info_tick('PETRI276')\n",
    "        p = mt5.symbol_info_tick('PETRU276')\n",
    "        \n",
    "        acao = a.last\n",
    "        call = c.last\n",
    "        put = p.last\n",
    "\n",
    "    time.sleep(3)"
   ]
  },
  {
   "cell_type": "code",
   "execution_count": null,
   "metadata": {},
   "outputs": [],
   "source": []
  }
 ],
 "metadata": {
  "kernelspec": {
   "display_name": "Python 3.8.8 ('base')",
   "language": "python",
   "name": "python3"
  },
  "language_info": {
   "codemirror_mode": {
    "name": "ipython",
    "version": 3
   },
   "file_extension": ".py",
   "mimetype": "text/x-python",
   "name": "python",
   "nbconvert_exporter": "python",
   "pygments_lexer": "ipython3",
   "version": "3.8.8"
  },
  "orig_nbformat": 4,
  "vscode": {
   "interpreter": {
    "hash": "5c0014d7bdea8e8a3a940a8951e0e4dbb3d2b571e022e3cbf52dd9dc692d11f7"
   }
  }
 },
 "nbformat": 4,
 "nbformat_minor": 2
}
