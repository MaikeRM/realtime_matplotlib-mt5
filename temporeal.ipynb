{
 "cells": [
  {
   "cell_type": "code",
   "execution_count": 33,
   "source": [
    "import requests\r\n",
    "from bs4 import BeautifulSoup"
   ],
   "outputs": [],
   "metadata": {}
  },
  {
   "cell_type": "code",
   "execution_count": 34,
   "source": [
    "url = 'https://br.financas.yahoo.com/quote/PETR4.SA?p=PETR4.SA&.tsrc=fin-srch'\r\n",
    "r = requests.get(url)"
   ],
   "outputs": [],
   "metadata": {}
  },
  {
   "cell_type": "code",
   "execution_count": 33,
   "source": [
    "import datetime\r\n",
    "import matplotlib.pyplot as plt\r\n",
    "import pandas as pd\r\n",
    "import time\r\n",
    "from pandas.plotting import register_matplotlib_converters\r\n",
    "register_matplotlib_converters()\r\n",
    "import MetaTrader5 as mt5"
   ],
   "outputs": [],
   "metadata": {}
  },
  {
   "cell_type": "code",
   "execution_count": 6,
   "source": [
    "# conecte-se ao MetaTrader 5\r\n",
    "if not mt5.initialize():\r\n",
    "    print(\"initialize() failed\")\r\n",
    "    mt5.shutdown()"
   ],
   "outputs": [],
   "metadata": {}
  },
  {
   "cell_type": "code",
   "execution_count": 7,
   "source": [
    "# consultamos o estado e os parâmetros de conexão\r\n",
    "print(mt5.terminal_info())\r\n",
    "# obtemos informações sobre a versão do MetaTrader 5\r\n",
    "print(mt5.version())"
   ],
   "outputs": [
    {
     "output_type": "stream",
     "name": "stdout",
     "text": [
      "TerminalInfo(community_account=True, community_connection=True, connected=True, dlls_allowed=False, trade_allowed=False, tradeapi_disabled=False, email_enabled=False, ftp_enabled=False, notifications_enabled=False, mqid=False, build=2998, maxbars=100000, codepage=1252, ping_last=29113, community_balance=0.0, retransmission=0.0, company='MetaQuotes Software Corp.', name='MetaTrader 5', language='Portuguese (Brazil)', path='C:\\\\Users\\\\Maike.mota\\\\AppData\\\\Roaming\\\\MetaTrader 5', data_path='C:\\\\Users\\\\Maike.mota\\\\AppData\\\\Roaming\\\\MetaQuotes\\\\Terminal\\\\FA37627ACD9883F78C7D602A14544768', commondata_path='C:\\\\Users\\\\Maike.mota\\\\AppData\\\\Roaming\\\\MetaQuotes\\\\Terminal\\\\Common')\n",
      "(500, 2998, '15 Jul 2021')\n"
     ]
    }
   ],
   "metadata": {}
  },
  {
   "cell_type": "code",
   "execution_count": 8,
   "source": [
    "simb = 'PETR4'\r\n",
    "mt5.symbol_info_tick('PETR4')"
   ],
   "outputs": [
    {
     "output_type": "execute_result",
     "data": {
      "text/plain": [
       "Tick(time=1630494900, bid=27.05, ask=27.06, last=27.05, volume=100, time_msc=1630494900822, flags=0, volume_real=100.0)"
      ]
     },
     "metadata": {},
     "execution_count": 8
    }
   ],
   "metadata": {}
  },
  {
   "cell_type": "code",
   "execution_count": 6,
   "source": [
    "def valor_acao():\r\n",
    "    tempo = time.time() + 10\r\n",
    "    while time.time() < tempo:\r\n",
    "        tick = mt5.symbol_info_tick('PETR4')\r\n",
    "        print(f'{simb} - last: {tick.last}, bid: {tick.bid}, ask:{tick.ask}', end='\\r')\r\n",
    "    return tick.last"
   ],
   "outputs": [],
   "metadata": {}
  },
  {
   "cell_type": "code",
   "execution_count": 7,
   "source": [
    "for step in range(1,10):\r\n",
    "    price=[]\r\n",
    "    col =[]\r\n",
    "    time_stamp = datetime.datetime.now()\r\n",
    "    time_stamp = time_stamp.strftime('%Y-%m-%d %H:%M:%S')\r\n",
    "    time.sleep(2)\r\n",
    "    tick = mt5.symbol_info_tick('PETR4')\r\n",
    "    price.append(tick.bid)\r\n",
    "    col = [time_stamp]\r\n",
    "    col.extend(price)\r\n",
    "    df = pd.DataFrame(col)\r\n",
    "    df = df.T\r\n",
    "    df.to_csv('real time stock data.csv')\r\n",
    "    print(col)"
   ],
   "outputs": [
    {
     "output_type": "stream",
     "name": "stdout",
     "text": [
      "['2021-09-01 10:52:48', 27.0]\n",
      "['2021-09-01 10:52:50', 27.0]\n",
      "['2021-09-01 10:52:52', 27.0]\n",
      "['2021-09-01 10:52:54', 27.0]\n"
     ]
    },
    {
     "output_type": "error",
     "ename": "KeyboardInterrupt",
     "evalue": "",
     "traceback": [
      "\u001b[1;31m---------------------------------------------------------------------------\u001b[0m",
      "\u001b[1;31mKeyboardInterrupt\u001b[0m                         Traceback (most recent call last)",
      "\u001b[1;32m<ipython-input-7-9b1679ead72a>\u001b[0m in \u001b[0;36m<module>\u001b[1;34m\u001b[0m\n\u001b[0;32m      4\u001b[0m     \u001b[0mtime_stamp\u001b[0m \u001b[1;33m=\u001b[0m \u001b[0mdatetime\u001b[0m\u001b[1;33m.\u001b[0m\u001b[0mdatetime\u001b[0m\u001b[1;33m.\u001b[0m\u001b[0mnow\u001b[0m\u001b[1;33m(\u001b[0m\u001b[1;33m)\u001b[0m\u001b[1;33m\u001b[0m\u001b[1;33m\u001b[0m\u001b[0m\n\u001b[0;32m      5\u001b[0m     \u001b[0mtime_stamp\u001b[0m \u001b[1;33m=\u001b[0m \u001b[0mtime_stamp\u001b[0m\u001b[1;33m.\u001b[0m\u001b[0mstrftime\u001b[0m\u001b[1;33m(\u001b[0m\u001b[1;34m'%Y-%m-%d %H:%M:%S'\u001b[0m\u001b[1;33m)\u001b[0m\u001b[1;33m\u001b[0m\u001b[1;33m\u001b[0m\u001b[0m\n\u001b[1;32m----> 6\u001b[1;33m     \u001b[0mtime\u001b[0m\u001b[1;33m.\u001b[0m\u001b[0msleep\u001b[0m\u001b[1;33m(\u001b[0m\u001b[1;36m2\u001b[0m\u001b[1;33m)\u001b[0m\u001b[1;33m\u001b[0m\u001b[1;33m\u001b[0m\u001b[0m\n\u001b[0m\u001b[0;32m      7\u001b[0m     \u001b[0mtick\u001b[0m \u001b[1;33m=\u001b[0m \u001b[0mmt5\u001b[0m\u001b[1;33m.\u001b[0m\u001b[0msymbol_info_tick\u001b[0m\u001b[1;33m(\u001b[0m\u001b[1;34m'PETR4'\u001b[0m\u001b[1;33m)\u001b[0m\u001b[1;33m\u001b[0m\u001b[1;33m\u001b[0m\u001b[0m\n\u001b[0;32m      8\u001b[0m     \u001b[0mprice\u001b[0m\u001b[1;33m.\u001b[0m\u001b[0mappend\u001b[0m\u001b[1;33m(\u001b[0m\u001b[0mtick\u001b[0m\u001b[1;33m.\u001b[0m\u001b[0mbid\u001b[0m\u001b[1;33m)\u001b[0m\u001b[1;33m\u001b[0m\u001b[1;33m\u001b[0m\u001b[0m\n",
      "\u001b[1;31mKeyboardInterrupt\u001b[0m: "
     ]
    }
   ],
   "metadata": {}
  },
  {
   "cell_type": "code",
   "execution_count": 31,
   "source": [
    "import matplotlib.animation as animation\r\n",
    "from matplotlib import style"
   ],
   "outputs": [],
   "metadata": {}
  },
  {
   "cell_type": "code",
   "execution_count": 50,
   "source": [
    "style.use('fivethirtyeight')\r\n",
    "fig = plt.figure()\r\n",
    "ax1 = fig.add_subplot(2,1,1)\r\n",
    "ax2 = fig.add_subplot(2,1,2)"
   ],
   "outputs": [
    {
     "output_type": "display_data",
     "data": {
      "text/plain": [
       "<Figure size 432x288 with 2 Axes>"
      ],
      "image/svg+xml": "<?xml version=\"1.0\" encoding=\"utf-8\" standalone=\"no\"?>\r\n<!DOCTYPE svg PUBLIC \"-//W3C//DTD SVG 1.1//EN\"\r\n  \"http://www.w3.org/Graphics/SVG/1.1/DTD/svg11.dtd\">\r\n<svg height=\"270.048281pt\" version=\"1.1\" viewBox=\"0 0 427.136562 270.048281\" width=\"427.136562pt\" xmlns=\"http://www.w3.org/2000/svg\" xmlns:xlink=\"http://www.w3.org/1999/xlink\">\r\n <metadata>\r\n  <rdf:RDF xmlns:cc=\"http://creativecommons.org/ns#\" xmlns:dc=\"http://purl.org/dc/elements/1.1/\" xmlns:rdf=\"http://www.w3.org/1999/02/22-rdf-syntax-ns#\">\r\n   <cc:Work>\r\n    <dc:type rdf:resource=\"http://purl.org/dc/dcmitype/StillImage\"/>\r\n    <dc:date>2021-09-02T15:17:03.608473</dc:date>\r\n    <dc:format>image/svg+xml</dc:format>\r\n    <dc:creator>\r\n     <cc:Agent>\r\n      <dc:title>Matplotlib v3.4.2, https://matplotlib.org/</dc:title>\r\n     </cc:Agent>\r\n    </dc:creator>\r\n   </cc:Work>\r\n  </rdf:RDF>\r\n </metadata>\r\n <defs>\r\n  <style type=\"text/css\">*{stroke-linecap:butt;stroke-linejoin:round;}</style>\r\n </defs>\r\n <g id=\"figure_1\">\r\n  <g id=\"patch_1\">\r\n   <path d=\"M 0 270.048281 \r\nL 427.136562 270.048281 \r\nL 427.136562 0 \r\nL 0 0 \r\nz\r\n\" style=\"fill:#f0f0f0;\"/>\r\n  </g>\r\n  <g id=\"axes_1\">\r\n   <g id=\"patch_2\">\r\n    <path d=\"M 32.964375 118.55527 \r\nL 408.804375 118.55527 \r\nL 408.804375 12.518906 \r\nL 32.964375 12.518906 \r\nz\r\n\" style=\"fill:#f0f0f0;\"/>\r\n   </g>\r\n   <g id=\"matplotlib.axis_1\">\r\n    <g id=\"xtick_1\">\r\n     <g id=\"line2d_1\">\r\n      <path clip-path=\"url(#pc495efa3da)\" d=\"M 32.964375 118.55527 \r\nL 32.964375 12.518906 \r\n\" style=\"fill:none;stroke:#cbcbcb;\"/>\r\n     </g>\r\n     <g id=\"line2d_2\"/>\r\n     <g id=\"text_1\">\r\n      <!-- 0.0 -->\r\n      <g transform=\"translate(21.832188 132.693082)scale(0.14 -0.14)\">\r\n       <defs>\r\n        <path d=\"M 2034 4250 \r\nQ 1547 4250 1301 3770 \r\nQ 1056 3291 1056 2328 \r\nQ 1056 1369 1301 889 \r\nQ 1547 409 2034 409 \r\nQ 2525 409 2770 889 \r\nQ 3016 1369 3016 2328 \r\nQ 3016 3291 2770 3770 \r\nQ 2525 4250 2034 4250 \r\nz\r\nM 2034 4750 \r\nQ 2819 4750 3233 4129 \r\nQ 3647 3509 3647 2328 \r\nQ 3647 1150 3233 529 \r\nQ 2819 -91 2034 -91 \r\nQ 1250 -91 836 529 \r\nQ 422 1150 422 2328 \r\nQ 422 3509 836 4129 \r\nQ 1250 4750 2034 4750 \r\nz\r\n\" id=\"DejaVuSans-30\" transform=\"scale(0.015625)\"/>\r\n        <path d=\"M 684 794 \r\nL 1344 794 \r\nL 1344 0 \r\nL 684 0 \r\nL 684 794 \r\nz\r\n\" id=\"DejaVuSans-2e\" transform=\"scale(0.015625)\"/>\r\n       </defs>\r\n       <use xlink:href=\"#DejaVuSans-30\"/>\r\n       <use x=\"63.623047\" xlink:href=\"#DejaVuSans-2e\"/>\r\n       <use x=\"95.410156\" xlink:href=\"#DejaVuSans-30\"/>\r\n      </g>\r\n     </g>\r\n    </g>\r\n    <g id=\"xtick_2\">\r\n     <g id=\"line2d_3\">\r\n      <path clip-path=\"url(#pc495efa3da)\" d=\"M 108.132375 118.55527 \r\nL 108.132375 12.518906 \r\n\" style=\"fill:none;stroke:#cbcbcb;\"/>\r\n     </g>\r\n     <g id=\"line2d_4\"/>\r\n     <g id=\"text_2\">\r\n      <!-- 0.2 -->\r\n      <g transform=\"translate(97.000187 132.693082)scale(0.14 -0.14)\">\r\n       <defs>\r\n        <path d=\"M 1228 531 \r\nL 3431 531 \r\nL 3431 0 \r\nL 469 0 \r\nL 469 531 \r\nQ 828 903 1448 1529 \r\nQ 2069 2156 2228 2338 \r\nQ 2531 2678 2651 2914 \r\nQ 2772 3150 2772 3378 \r\nQ 2772 3750 2511 3984 \r\nQ 2250 4219 1831 4219 \r\nQ 1534 4219 1204 4116 \r\nQ 875 4013 500 3803 \r\nL 500 4441 \r\nQ 881 4594 1212 4672 \r\nQ 1544 4750 1819 4750 \r\nQ 2544 4750 2975 4387 \r\nQ 3406 4025 3406 3419 \r\nQ 3406 3131 3298 2873 \r\nQ 3191 2616 2906 2266 \r\nQ 2828 2175 2409 1742 \r\nQ 1991 1309 1228 531 \r\nz\r\n\" id=\"DejaVuSans-32\" transform=\"scale(0.015625)\"/>\r\n       </defs>\r\n       <use xlink:href=\"#DejaVuSans-30\"/>\r\n       <use x=\"63.623047\" xlink:href=\"#DejaVuSans-2e\"/>\r\n       <use x=\"95.410156\" xlink:href=\"#DejaVuSans-32\"/>\r\n      </g>\r\n     </g>\r\n    </g>\r\n    <g id=\"xtick_3\">\r\n     <g id=\"line2d_5\">\r\n      <path clip-path=\"url(#pc495efa3da)\" d=\"M 183.300375 118.55527 \r\nL 183.300375 12.518906 \r\n\" style=\"fill:none;stroke:#cbcbcb;\"/>\r\n     </g>\r\n     <g id=\"line2d_6\"/>\r\n     <g id=\"text_3\">\r\n      <!-- 0.4 -->\r\n      <g transform=\"translate(172.168187 132.693082)scale(0.14 -0.14)\">\r\n       <defs>\r\n        <path d=\"M 2419 4116 \r\nL 825 1625 \r\nL 2419 1625 \r\nL 2419 4116 \r\nz\r\nM 2253 4666 \r\nL 3047 4666 \r\nL 3047 1625 \r\nL 3713 1625 \r\nL 3713 1100 \r\nL 3047 1100 \r\nL 3047 0 \r\nL 2419 0 \r\nL 2419 1100 \r\nL 313 1100 \r\nL 313 1709 \r\nL 2253 4666 \r\nz\r\n\" id=\"DejaVuSans-34\" transform=\"scale(0.015625)\"/>\r\n       </defs>\r\n       <use xlink:href=\"#DejaVuSans-30\"/>\r\n       <use x=\"63.623047\" xlink:href=\"#DejaVuSans-2e\"/>\r\n       <use x=\"95.410156\" xlink:href=\"#DejaVuSans-34\"/>\r\n      </g>\r\n     </g>\r\n    </g>\r\n    <g id=\"xtick_4\">\r\n     <g id=\"line2d_7\">\r\n      <path clip-path=\"url(#pc495efa3da)\" d=\"M 258.468375 118.55527 \r\nL 258.468375 12.518906 \r\n\" style=\"fill:none;stroke:#cbcbcb;\"/>\r\n     </g>\r\n     <g id=\"line2d_8\"/>\r\n     <g id=\"text_4\">\r\n      <!-- 0.6 -->\r\n      <g transform=\"translate(247.336188 132.693082)scale(0.14 -0.14)\">\r\n       <defs>\r\n        <path d=\"M 2113 2584 \r\nQ 1688 2584 1439 2293 \r\nQ 1191 2003 1191 1497 \r\nQ 1191 994 1439 701 \r\nQ 1688 409 2113 409 \r\nQ 2538 409 2786 701 \r\nQ 3034 994 3034 1497 \r\nQ 3034 2003 2786 2293 \r\nQ 2538 2584 2113 2584 \r\nz\r\nM 3366 4563 \r\nL 3366 3988 \r\nQ 3128 4100 2886 4159 \r\nQ 2644 4219 2406 4219 \r\nQ 1781 4219 1451 3797 \r\nQ 1122 3375 1075 2522 \r\nQ 1259 2794 1537 2939 \r\nQ 1816 3084 2150 3084 \r\nQ 2853 3084 3261 2657 \r\nQ 3669 2231 3669 1497 \r\nQ 3669 778 3244 343 \r\nQ 2819 -91 2113 -91 \r\nQ 1303 -91 875 529 \r\nQ 447 1150 447 2328 \r\nQ 447 3434 972 4092 \r\nQ 1497 4750 2381 4750 \r\nQ 2619 4750 2861 4703 \r\nQ 3103 4656 3366 4563 \r\nz\r\n\" id=\"DejaVuSans-36\" transform=\"scale(0.015625)\"/>\r\n       </defs>\r\n       <use xlink:href=\"#DejaVuSans-30\"/>\r\n       <use x=\"63.623047\" xlink:href=\"#DejaVuSans-2e\"/>\r\n       <use x=\"95.410156\" xlink:href=\"#DejaVuSans-36\"/>\r\n      </g>\r\n     </g>\r\n    </g>\r\n    <g id=\"xtick_5\">\r\n     <g id=\"line2d_9\">\r\n      <path clip-path=\"url(#pc495efa3da)\" d=\"M 333.636375 118.55527 \r\nL 333.636375 12.518906 \r\n\" style=\"fill:none;stroke:#cbcbcb;\"/>\r\n     </g>\r\n     <g id=\"line2d_10\"/>\r\n     <g id=\"text_5\">\r\n      <!-- 0.8 -->\r\n      <g transform=\"translate(322.504188 132.693082)scale(0.14 -0.14)\">\r\n       <defs>\r\n        <path d=\"M 2034 2216 \r\nQ 1584 2216 1326 1975 \r\nQ 1069 1734 1069 1313 \r\nQ 1069 891 1326 650 \r\nQ 1584 409 2034 409 \r\nQ 2484 409 2743 651 \r\nQ 3003 894 3003 1313 \r\nQ 3003 1734 2745 1975 \r\nQ 2488 2216 2034 2216 \r\nz\r\nM 1403 2484 \r\nQ 997 2584 770 2862 \r\nQ 544 3141 544 3541 \r\nQ 544 4100 942 4425 \r\nQ 1341 4750 2034 4750 \r\nQ 2731 4750 3128 4425 \r\nQ 3525 4100 3525 3541 \r\nQ 3525 3141 3298 2862 \r\nQ 3072 2584 2669 2484 \r\nQ 3125 2378 3379 2068 \r\nQ 3634 1759 3634 1313 \r\nQ 3634 634 3220 271 \r\nQ 2806 -91 2034 -91 \r\nQ 1263 -91 848 271 \r\nQ 434 634 434 1313 \r\nQ 434 1759 690 2068 \r\nQ 947 2378 1403 2484 \r\nz\r\nM 1172 3481 \r\nQ 1172 3119 1398 2916 \r\nQ 1625 2713 2034 2713 \r\nQ 2441 2713 2670 2916 \r\nQ 2900 3119 2900 3481 \r\nQ 2900 3844 2670 4047 \r\nQ 2441 4250 2034 4250 \r\nQ 1625 4250 1398 4047 \r\nQ 1172 3844 1172 3481 \r\nz\r\n\" id=\"DejaVuSans-38\" transform=\"scale(0.015625)\"/>\r\n       </defs>\r\n       <use xlink:href=\"#DejaVuSans-30\"/>\r\n       <use x=\"63.623047\" xlink:href=\"#DejaVuSans-2e\"/>\r\n       <use x=\"95.410156\" xlink:href=\"#DejaVuSans-38\"/>\r\n      </g>\r\n     </g>\r\n    </g>\r\n    <g id=\"xtick_6\">\r\n     <g id=\"line2d_11\">\r\n      <path clip-path=\"url(#pc495efa3da)\" d=\"M 408.804375 118.55527 \r\nL 408.804375 12.518906 \r\n\" style=\"fill:none;stroke:#cbcbcb;\"/>\r\n     </g>\r\n     <g id=\"line2d_12\"/>\r\n     <g id=\"text_6\">\r\n      <!-- 1.0 -->\r\n      <g transform=\"translate(397.672188 132.693082)scale(0.14 -0.14)\">\r\n       <defs>\r\n        <path d=\"M 794 531 \r\nL 1825 531 \r\nL 1825 4091 \r\nL 703 3866 \r\nL 703 4441 \r\nL 1819 4666 \r\nL 2450 4666 \r\nL 2450 531 \r\nL 3481 531 \r\nL 3481 0 \r\nL 794 0 \r\nL 794 531 \r\nz\r\n\" id=\"DejaVuSans-31\" transform=\"scale(0.015625)\"/>\r\n       </defs>\r\n       <use xlink:href=\"#DejaVuSans-31\"/>\r\n       <use x=\"63.623047\" xlink:href=\"#DejaVuSans-2e\"/>\r\n       <use x=\"95.410156\" xlink:href=\"#DejaVuSans-30\"/>\r\n      </g>\r\n     </g>\r\n    </g>\r\n   </g>\r\n   <g id=\"matplotlib.axis_2\">\r\n    <g id=\"ytick_1\">\r\n     <g id=\"line2d_13\">\r\n      <path clip-path=\"url(#pc495efa3da)\" d=\"M 32.964375 118.55527 \r\nL 408.804375 118.55527 \r\n\" style=\"fill:none;stroke:#cbcbcb;\"/>\r\n     </g>\r\n     <g id=\"line2d_14\"/>\r\n     <g id=\"text_7\">\r\n      <!-- 0.0 -->\r\n      <g transform=\"translate(7.2 123.874176)scale(0.14 -0.14)\">\r\n       <use xlink:href=\"#DejaVuSans-30\"/>\r\n       <use x=\"63.623047\" xlink:href=\"#DejaVuSans-2e\"/>\r\n       <use x=\"95.410156\" xlink:href=\"#DejaVuSans-30\"/>\r\n      </g>\r\n     </g>\r\n    </g>\r\n    <g id=\"ytick_2\">\r\n     <g id=\"line2d_15\">\r\n      <path clip-path=\"url(#pc495efa3da)\" d=\"M 32.964375 65.537088 \r\nL 408.804375 65.537088 \r\n\" style=\"fill:none;stroke:#cbcbcb;\"/>\r\n     </g>\r\n     <g id=\"line2d_16\"/>\r\n     <g id=\"text_8\">\r\n      <!-- 0.5 -->\r\n      <g transform=\"translate(7.2 70.855994)scale(0.14 -0.14)\">\r\n       <defs>\r\n        <path d=\"M 691 4666 \r\nL 3169 4666 \r\nL 3169 4134 \r\nL 1269 4134 \r\nL 1269 2991 \r\nQ 1406 3038 1543 3061 \r\nQ 1681 3084 1819 3084 \r\nQ 2600 3084 3056 2656 \r\nQ 3513 2228 3513 1497 \r\nQ 3513 744 3044 326 \r\nQ 2575 -91 1722 -91 \r\nQ 1428 -91 1123 -41 \r\nQ 819 9 494 109 \r\nL 494 744 \r\nQ 775 591 1075 516 \r\nQ 1375 441 1709 441 \r\nQ 2250 441 2565 725 \r\nQ 2881 1009 2881 1497 \r\nQ 2881 1984 2565 2268 \r\nQ 2250 2553 1709 2553 \r\nQ 1456 2553 1204 2497 \r\nQ 953 2441 691 2322 \r\nL 691 4666 \r\nz\r\n\" id=\"DejaVuSans-35\" transform=\"scale(0.015625)\"/>\r\n       </defs>\r\n       <use xlink:href=\"#DejaVuSans-30\"/>\r\n       <use x=\"63.623047\" xlink:href=\"#DejaVuSans-2e\"/>\r\n       <use x=\"95.410156\" xlink:href=\"#DejaVuSans-35\"/>\r\n      </g>\r\n     </g>\r\n    </g>\r\n    <g id=\"ytick_3\">\r\n     <g id=\"line2d_17\">\r\n      <path clip-path=\"url(#pc495efa3da)\" d=\"M 32.964375 12.518906 \r\nL 408.804375 12.518906 \r\n\" style=\"fill:none;stroke:#cbcbcb;\"/>\r\n     </g>\r\n     <g id=\"line2d_18\"/>\r\n     <g id=\"text_9\">\r\n      <!-- 1.0 -->\r\n      <g transform=\"translate(7.2 17.837813)scale(0.14 -0.14)\">\r\n       <use xlink:href=\"#DejaVuSans-31\"/>\r\n       <use x=\"63.623047\" xlink:href=\"#DejaVuSans-2e\"/>\r\n       <use x=\"95.410156\" xlink:href=\"#DejaVuSans-30\"/>\r\n      </g>\r\n     </g>\r\n    </g>\r\n   </g>\r\n   <g id=\"patch_3\">\r\n    <path d=\"M 32.964375 118.55527 \r\nL 32.964375 12.518906 \r\n\" style=\"fill:none;stroke:#f0f0f0;stroke-linecap:square;stroke-linejoin:miter;stroke-width:3;\"/>\r\n   </g>\r\n   <g id=\"patch_4\">\r\n    <path d=\"M 408.804375 118.55527 \r\nL 408.804375 12.518906 \r\n\" style=\"fill:none;stroke:#f0f0f0;stroke-linecap:square;stroke-linejoin:miter;stroke-width:3;\"/>\r\n   </g>\r\n   <g id=\"patch_5\">\r\n    <path d=\"M 32.964375 118.55527 \r\nL 408.804375 118.55527 \r\n\" style=\"fill:none;stroke:#f0f0f0;stroke-linecap:square;stroke-linejoin:miter;stroke-width:3;\"/>\r\n   </g>\r\n   <g id=\"patch_6\">\r\n    <path d=\"M 32.964375 12.518906 \r\nL 408.804375 12.518906 \r\n\" style=\"fill:none;stroke:#f0f0f0;stroke-linecap:square;stroke-linejoin:miter;stroke-width:3;\"/>\r\n   </g>\r\n  </g>\r\n  <g id=\"axes_2\">\r\n   <g id=\"patch_7\">\r\n    <path d=\"M 32.964375 245.798906 \r\nL 408.804375 245.798906 \r\nL 408.804375 139.762543 \r\nL 32.964375 139.762543 \r\nz\r\n\" style=\"fill:#f0f0f0;\"/>\r\n   </g>\r\n   <g id=\"matplotlib.axis_3\">\r\n    <g id=\"xtick_7\">\r\n     <g id=\"line2d_19\">\r\n      <path clip-path=\"url(#p34dbf1aba0)\" d=\"M 32.964375 245.798906 \r\nL 32.964375 139.762543 \r\n\" style=\"fill:none;stroke:#cbcbcb;\"/>\r\n     </g>\r\n     <g id=\"line2d_20\"/>\r\n     <g id=\"text_10\">\r\n      <!-- 0.0 -->\r\n      <g transform=\"translate(21.832188 259.936719)scale(0.14 -0.14)\">\r\n       <use xlink:href=\"#DejaVuSans-30\"/>\r\n       <use x=\"63.623047\" xlink:href=\"#DejaVuSans-2e\"/>\r\n       <use x=\"95.410156\" xlink:href=\"#DejaVuSans-30\"/>\r\n      </g>\r\n     </g>\r\n    </g>\r\n    <g id=\"xtick_8\">\r\n     <g id=\"line2d_21\">\r\n      <path clip-path=\"url(#p34dbf1aba0)\" d=\"M 108.132375 245.798906 \r\nL 108.132375 139.762543 \r\n\" style=\"fill:none;stroke:#cbcbcb;\"/>\r\n     </g>\r\n     <g id=\"line2d_22\"/>\r\n     <g id=\"text_11\">\r\n      <!-- 0.2 -->\r\n      <g transform=\"translate(97.000187 259.936719)scale(0.14 -0.14)\">\r\n       <use xlink:href=\"#DejaVuSans-30\"/>\r\n       <use x=\"63.623047\" xlink:href=\"#DejaVuSans-2e\"/>\r\n       <use x=\"95.410156\" xlink:href=\"#DejaVuSans-32\"/>\r\n      </g>\r\n     </g>\r\n    </g>\r\n    <g id=\"xtick_9\">\r\n     <g id=\"line2d_23\">\r\n      <path clip-path=\"url(#p34dbf1aba0)\" d=\"M 183.300375 245.798906 \r\nL 183.300375 139.762543 \r\n\" style=\"fill:none;stroke:#cbcbcb;\"/>\r\n     </g>\r\n     <g id=\"line2d_24\"/>\r\n     <g id=\"text_12\">\r\n      <!-- 0.4 -->\r\n      <g transform=\"translate(172.168187 259.936719)scale(0.14 -0.14)\">\r\n       <use xlink:href=\"#DejaVuSans-30\"/>\r\n       <use x=\"63.623047\" xlink:href=\"#DejaVuSans-2e\"/>\r\n       <use x=\"95.410156\" xlink:href=\"#DejaVuSans-34\"/>\r\n      </g>\r\n     </g>\r\n    </g>\r\n    <g id=\"xtick_10\">\r\n     <g id=\"line2d_25\">\r\n      <path clip-path=\"url(#p34dbf1aba0)\" d=\"M 258.468375 245.798906 \r\nL 258.468375 139.762543 \r\n\" style=\"fill:none;stroke:#cbcbcb;\"/>\r\n     </g>\r\n     <g id=\"line2d_26\"/>\r\n     <g id=\"text_13\">\r\n      <!-- 0.6 -->\r\n      <g transform=\"translate(247.336188 259.936719)scale(0.14 -0.14)\">\r\n       <use xlink:href=\"#DejaVuSans-30\"/>\r\n       <use x=\"63.623047\" xlink:href=\"#DejaVuSans-2e\"/>\r\n       <use x=\"95.410156\" xlink:href=\"#DejaVuSans-36\"/>\r\n      </g>\r\n     </g>\r\n    </g>\r\n    <g id=\"xtick_11\">\r\n     <g id=\"line2d_27\">\r\n      <path clip-path=\"url(#p34dbf1aba0)\" d=\"M 333.636375 245.798906 \r\nL 333.636375 139.762543 \r\n\" style=\"fill:none;stroke:#cbcbcb;\"/>\r\n     </g>\r\n     <g id=\"line2d_28\"/>\r\n     <g id=\"text_14\">\r\n      <!-- 0.8 -->\r\n      <g transform=\"translate(322.504188 259.936719)scale(0.14 -0.14)\">\r\n       <use xlink:href=\"#DejaVuSans-30\"/>\r\n       <use x=\"63.623047\" xlink:href=\"#DejaVuSans-2e\"/>\r\n       <use x=\"95.410156\" xlink:href=\"#DejaVuSans-38\"/>\r\n      </g>\r\n     </g>\r\n    </g>\r\n    <g id=\"xtick_12\">\r\n     <g id=\"line2d_29\">\r\n      <path clip-path=\"url(#p34dbf1aba0)\" d=\"M 408.804375 245.798906 \r\nL 408.804375 139.762543 \r\n\" style=\"fill:none;stroke:#cbcbcb;\"/>\r\n     </g>\r\n     <g id=\"line2d_30\"/>\r\n     <g id=\"text_15\">\r\n      <!-- 1.0 -->\r\n      <g transform=\"translate(397.672188 259.936719)scale(0.14 -0.14)\">\r\n       <use xlink:href=\"#DejaVuSans-31\"/>\r\n       <use x=\"63.623047\" xlink:href=\"#DejaVuSans-2e\"/>\r\n       <use x=\"95.410156\" xlink:href=\"#DejaVuSans-30\"/>\r\n      </g>\r\n     </g>\r\n    </g>\r\n   </g>\r\n   <g id=\"matplotlib.axis_4\">\r\n    <g id=\"ytick_4\">\r\n     <g id=\"line2d_31\">\r\n      <path clip-path=\"url(#p34dbf1aba0)\" d=\"M 32.964375 245.798906 \r\nL 408.804375 245.798906 \r\n\" style=\"fill:none;stroke:#cbcbcb;\"/>\r\n     </g>\r\n     <g id=\"line2d_32\"/>\r\n     <g id=\"text_16\">\r\n      <!-- 0.0 -->\r\n      <g transform=\"translate(7.2 251.117813)scale(0.14 -0.14)\">\r\n       <use xlink:href=\"#DejaVuSans-30\"/>\r\n       <use x=\"63.623047\" xlink:href=\"#DejaVuSans-2e\"/>\r\n       <use x=\"95.410156\" xlink:href=\"#DejaVuSans-30\"/>\r\n      </g>\r\n     </g>\r\n    </g>\r\n    <g id=\"ytick_5\">\r\n     <g id=\"line2d_33\">\r\n      <path clip-path=\"url(#p34dbf1aba0)\" d=\"M 32.964375 192.780724 \r\nL 408.804375 192.780724 \r\n\" style=\"fill:none;stroke:#cbcbcb;\"/>\r\n     </g>\r\n     <g id=\"line2d_34\"/>\r\n     <g id=\"text_17\">\r\n      <!-- 0.5 -->\r\n      <g transform=\"translate(7.2 198.099631)scale(0.14 -0.14)\">\r\n       <use xlink:href=\"#DejaVuSans-30\"/>\r\n       <use x=\"63.623047\" xlink:href=\"#DejaVuSans-2e\"/>\r\n       <use x=\"95.410156\" xlink:href=\"#DejaVuSans-35\"/>\r\n      </g>\r\n     </g>\r\n    </g>\r\n    <g id=\"ytick_6\">\r\n     <g id=\"line2d_35\">\r\n      <path clip-path=\"url(#p34dbf1aba0)\" d=\"M 32.964375 139.762543 \r\nL 408.804375 139.762543 \r\n\" style=\"fill:none;stroke:#cbcbcb;\"/>\r\n     </g>\r\n     <g id=\"line2d_36\"/>\r\n     <g id=\"text_18\">\r\n      <!-- 1.0 -->\r\n      <g transform=\"translate(7.2 145.081449)scale(0.14 -0.14)\">\r\n       <use xlink:href=\"#DejaVuSans-31\"/>\r\n       <use x=\"63.623047\" xlink:href=\"#DejaVuSans-2e\"/>\r\n       <use x=\"95.410156\" xlink:href=\"#DejaVuSans-30\"/>\r\n      </g>\r\n     </g>\r\n    </g>\r\n   </g>\r\n   <g id=\"patch_8\">\r\n    <path d=\"M 32.964375 245.798906 \r\nL 32.964375 139.762543 \r\n\" style=\"fill:none;stroke:#f0f0f0;stroke-linecap:square;stroke-linejoin:miter;stroke-width:3;\"/>\r\n   </g>\r\n   <g id=\"patch_9\">\r\n    <path d=\"M 408.804375 245.798906 \r\nL 408.804375 139.762543 \r\n\" style=\"fill:none;stroke:#f0f0f0;stroke-linecap:square;stroke-linejoin:miter;stroke-width:3;\"/>\r\n   </g>\r\n   <g id=\"patch_10\">\r\n    <path d=\"M 32.964375 245.798906 \r\nL 408.804375 245.798906 \r\n\" style=\"fill:none;stroke:#f0f0f0;stroke-linecap:square;stroke-linejoin:miter;stroke-width:3;\"/>\r\n   </g>\r\n   <g id=\"patch_11\">\r\n    <path d=\"M 32.964375 139.762543 \r\nL 408.804375 139.762543 \r\n\" style=\"fill:none;stroke:#f0f0f0;stroke-linecap:square;stroke-linejoin:miter;stroke-width:3;\"/>\r\n   </g>\r\n  </g>\r\n </g>\r\n <defs>\r\n  <clipPath id=\"pc495efa3da\">\r\n   <rect height=\"106.036364\" width=\"375.84\" x=\"32.964375\" y=\"12.518906\"/>\r\n  </clipPath>\r\n  <clipPath id=\"p34dbf1aba0\">\r\n   <rect height=\"106.036364\" width=\"375.84\" x=\"32.964375\" y=\"139.762543\"/>\r\n  </clipPath>\r\n </defs>\r\n</svg>\r\n",
      "image/png": "[encoded data removed]"
     },
     "metadata": {}
    }
   ],
   "metadata": {}
  },
  {
   "cell_type": "code",
   "execution_count": 49,
   "source": [
    "def animate(i):\r\n",
    "    df = pd.read_csv('real time stock data.csv')\r\n",
    "    ys = df.iloc[1:, 2].values\r\n",
    "    xs = list(range(1, len(ys)+1))\r\n",
    "    ax1.clear()\r\n",
    "    ax1.plot(xs, ys)\r\n",
    "\r\n",
    "    ys = df.iloc[1:, 3].values\r\n",
    "    xs = list(range(1, len(ys)+1))\r\n",
    "    ax2.clear()\r\n",
    "    ax2.plot(xs, ys)\r\n",
    "\r\n",
    "    ys = df.iloc[1:, 4].values\r\n",
    "    xs = list(range(1, len(ys)+1))\r\n",
    "    ax3.clear()\r\n",
    "    ax3.plot(xs, ys)\r\n",
    "\r\n",
    "    ys = df.iloc[1:, 5].values\r\n",
    "    xs = list(range(1, len(ys)+1))\r\n",
    "    ax4.clear()\r\n",
    "    ax4.plot(xs, ys)"
   ],
   "outputs": [],
   "metadata": {}
  },
  {
   "cell_type": "code",
   "execution_count": 50,
   "source": [
    "ani = animation.FuncAnimation(fig, animate, interval = 10000)\r\n",
    "plt.tight_layout()\r\n",
    "plt.show()"
   ],
   "outputs": [
    {
     "output_type": "stream",
     "name": "stderr",
     "text": [
      "C:\\Users\\Maike.mota\\AppData\\Local\\Programs\\Python\\Python39\\lib\\site-packages\\matplotlib\\animation.py:973: UserWarning: Animation was deleted without rendering anything. This is most likely unintended. To prevent deletion, assign the Animation to a variable that exists for as long as you need the Animation.\n",
      "  warnings.warn(\n"
     ]
    },
    {
     "output_type": "display_data",
     "data": {
      "text/plain": [
       "<Figure size 432x288 with 0 Axes>"
      ]
     },
     "metadata": {}
    }
   ],
   "metadata": {}
  },
  {
   "cell_type": "code",
   "execution_count": 25,
   "source": [
    "import csv\r\n",
    "import datetime\r\n",
    "import time\r\n",
    "import MetaTrader5 as mt5\r\n",
    "\r\n",
    "tick = mt5.symbol_info_tick('PETR4')\r\n",
    "\r\n",
    "x_value = 0\r\n",
    "bid = tick.last\r\n",
    "ask = tick.ask"
   ],
   "outputs": [],
   "metadata": {}
  },
  {
   "cell_type": "code",
   "execution_count": null,
   "source": [
    "ask"
   ],
   "outputs": [
    {
     "output_type": "execute_result",
     "data": {
      "text/plain": [
       "27.1"
      ]
     },
     "metadata": {},
     "execution_count": 9
    }
   ],
   "metadata": {}
  },
  {
   "cell_type": "code",
   "execution_count": 24,
   "source": [
    "c = mt5.symbol_info_tick('PETRI276')\r\n",
    "p = mt5.symbol_info_tick('PETRU276')\r\n",
    "\r\n",
    "call = c.last\r\n",
    "put = p.last"
   ],
   "outputs": [
    {
     "output_type": "error",
     "ename": "AttributeError",
     "evalue": "'NoneType' object has no attribute 'last'",
     "traceback": [
      "\u001b[1;31m---------------------------------------------------------------------------\u001b[0m",
      "\u001b[1;31mAttributeError\u001b[0m                            Traceback (most recent call last)",
      "\u001b[1;32m<ipython-input-24-46b5a6ffe213>\u001b[0m in \u001b[0;36m<module>\u001b[1;34m\u001b[0m\n\u001b[0;32m      2\u001b[0m \u001b[0mp\u001b[0m \u001b[1;33m=\u001b[0m \u001b[0mmt5\u001b[0m\u001b[1;33m.\u001b[0m\u001b[0msymbol_info_tick\u001b[0m\u001b[1;33m(\u001b[0m\u001b[1;34m'PETRU276'\u001b[0m\u001b[1;33m)\u001b[0m\u001b[1;33m\u001b[0m\u001b[1;33m\u001b[0m\u001b[0m\n\u001b[0;32m      3\u001b[0m \u001b[1;33m\u001b[0m\u001b[0m\n\u001b[1;32m----> 4\u001b[1;33m \u001b[0mcall\u001b[0m \u001b[1;33m=\u001b[0m \u001b[0mc\u001b[0m\u001b[1;33m.\u001b[0m\u001b[0mlast\u001b[0m\u001b[1;33m\u001b[0m\u001b[1;33m\u001b[0m\u001b[0m\n\u001b[0m\u001b[0;32m      5\u001b[0m \u001b[0mput\u001b[0m \u001b[1;33m=\u001b[0m \u001b[0mp\u001b[0m\u001b[1;33m.\u001b[0m\u001b[0mlast\u001b[0m\u001b[1;33m\u001b[0m\u001b[1;33m\u001b[0m\u001b[0m\n",
      "\u001b[1;31mAttributeError\u001b[0m: 'NoneType' object has no attribute 'last'"
     ]
    }
   ],
   "metadata": {}
  },
  {
   "cell_type": "code",
   "execution_count": 51,
   "source": [
    "import csv\r\n",
    "import datetime\r\n",
    "import time\r\n",
    "import MetaTrader5 as mt5\r\n",
    "\r\n",
    "# conecte-se ao MetaTrader 5\r\n",
    "if not mt5.initialize():\r\n",
    "    print(\"initialize() failed\")\r\n",
    "    mt5.shutdown()\r\n",
    "\r\n",
    "a = mt5.symbol_info_tick('PETR4')\r\n",
    "c = mt5.symbol_info_tick('PETRI276')\r\n",
    "p = mt5.symbol_info_tick('PETRU276')\r\n",
    "\r\n",
    "x_value = 0\r\n",
    "acao = a.last\r\n",
    "call = c.last\r\n",
    "put = p.last\r\n",
    "\r\n",
    "fieldnames = [\"x_value\", \"call\", \"put\", \"acao\"]\r\n",
    "\r\n",
    "\r\n",
    "with open('data.csv', 'w') as csv_file:\r\n",
    "    csv_writer = csv.DictWriter(csv_file, fieldnames=fieldnames)\r\n",
    "    csv_writer.writeheader()\r\n",
    "\r\n",
    "while True:\r\n",
    "\r\n",
    "    with open('data.csv', 'a') as csv_file:\r\n",
    "        csv_writer = csv.DictWriter(csv_file, fieldnames=fieldnames)\r\n",
    "\r\n",
    "        info = {\r\n",
    "            \"x_value\": x_value,\r\n",
    "            \"call\": call,\r\n",
    "            \"put\": put,\r\n",
    "            \"acao\": acao\r\n",
    "        }\r\n",
    "\r\n",
    "        csv_writer.writerow(info)\r\n",
    "        print(x_value, call, put, acao)\r\n",
    "\r\n",
    "        time_stamp = datetime.datetime.now()\r\n",
    "        x_value = time_stamp.strftime('%Y-%m-%d %H:%M:%S')\r\n",
    "\r\n",
    "        a = mt5.symbol_info_tick('PETR4')\r\n",
    "        c = mt5.symbol_info_tick('PETRI276')\r\n",
    "        p = mt5.symbol_info_tick('PETRU276')\r\n",
    "        \r\n",
    "        acao = a.last\r\n",
    "        call = c.last\r\n",
    "        put = p.last\r\n",
    "\r\n",
    "    time.sleep(3)"
   ],
   "outputs": [
    {
     "output_type": "stream",
     "name": "stdout",
     "text": [
      "0 0.79 0.83 26.74\n",
      "2021-09-02 15:23:45 0.79 0.83 26.74\n",
      "2021-09-02 15:23:48 0.79 0.83 26.75\n",
      "2021-09-02 15:23:51 0.79 0.83 26.75\n",
      "2021-09-02 15:23:54 0.79 0.83 26.73\n",
      "2021-09-02 15:23:57 0.79 0.83 26.74\n",
      "2021-09-02 15:24:00 0.79 0.83 26.74\n",
      "2021-09-02 15:24:03 0.79 0.83 26.74\n",
      "2021-09-02 15:24:06 0.79 0.83 26.73\n",
      "2021-09-02 15:24:09 0.79 0.83 26.74\n",
      "2021-09-02 15:24:12 0.79 0.83 26.73\n",
      "2021-09-02 15:24:15 0.79 0.83 26.74\n",
      "2021-09-02 15:24:18 0.79 0.83 26.73\n",
      "2021-09-02 15:24:21 0.79 0.83 26.73\n",
      "2021-09-02 15:24:24 0.79 0.83 26.74\n",
      "2021-09-02 15:24:27 0.79 0.83 26.73\n",
      "2021-09-02 15:24:30 0.79 0.83 26.73\n",
      "2021-09-02 15:24:33 0.79 0.83 26.73\n",
      "2021-09-02 15:24:36 0.78 0.83 26.73\n",
      "2021-09-02 15:24:39 0.78 0.83 26.72\n",
      "2021-09-02 15:24:42 0.78 0.83 26.72\n",
      "2021-09-02 15:24:45 0.78 0.83 26.73\n",
      "2021-09-02 15:24:48 0.78 0.83 26.72\n",
      "2021-09-02 15:24:51 0.78 0.84 26.73\n",
      "2021-09-02 15:24:54 0.78 0.84 26.73\n",
      "2021-09-02 15:24:57 0.78 0.84 26.74\n",
      "2021-09-02 15:25:00 0.78 0.84 26.73\n",
      "2021-09-02 15:25:03 0.78 0.84 26.72\n",
      "2021-09-02 15:25:06 0.78 0.84 26.72\n",
      "2021-09-02 15:25:09 0.78 0.84 26.72\n",
      "2021-09-02 15:25:12 0.78 0.84 26.72\n",
      "2021-09-02 15:25:15 0.78 0.84 26.72\n",
      "2021-09-02 15:25:18 0.78 0.84 26.72\n",
      "2021-09-02 15:25:21 0.78 0.84 26.75\n",
      "2021-09-02 15:25:24 0.78 0.84 26.75\n",
      "2021-09-02 15:25:27 0.78 0.84 26.75\n",
      "2021-09-02 15:25:30 0.78 0.84 26.75\n",
      "2021-09-02 15:25:33 0.78 0.84 26.75\n",
      "2021-09-02 15:25:36 0.78 0.83 26.74\n",
      "2021-09-02 15:25:39 0.78 0.83 26.74\n",
      "2021-09-02 15:25:42 0.78 0.83 26.74\n",
      "2021-09-02 15:25:45 0.78 0.83 26.73\n",
      "2021-09-02 15:25:48 0.78 0.83 26.73\n",
      "2021-09-02 15:25:51 0.78 0.83 26.73\n",
      "2021-09-02 15:25:54 0.78 0.83 26.73\n",
      "2021-09-02 15:25:57 0.78 0.83 26.73\n",
      "2021-09-02 15:26:00 0.78 0.83 26.73\n",
      "2021-09-02 15:26:03 0.78 0.83 26.73\n",
      "2021-09-02 15:26:06 0.78 0.83 26.72\n",
      "2021-09-02 15:26:09 0.78 0.83 26.72\n",
      "2021-09-02 15:26:12 0.78 0.83 26.72\n",
      "2021-09-02 15:26:15 0.78 0.83 26.72\n",
      "2021-09-02 15:26:18 0.78 0.83 26.73\n",
      "2021-09-02 15:26:21 0.78 0.83 26.74\n",
      "2021-09-02 15:26:24 0.78 0.83 26.74\n",
      "2021-09-02 15:26:28 0.78 0.83 26.73\n",
      "2021-09-02 15:26:31 0.78 0.83 26.72\n",
      "2021-09-02 15:26:34 0.77 0.83 26.73\n",
      "2021-09-02 15:26:37 0.77 0.83 26.72\n",
      "2021-09-02 15:26:40 0.77 0.83 26.73\n",
      "2021-09-02 15:26:43 0.77 0.83 26.72\n",
      "2021-09-02 15:26:46 0.77 0.83 26.72\n",
      "2021-09-02 15:26:49 0.77 0.83 26.73\n",
      "2021-09-02 15:26:52 0.77 0.83 26.72\n",
      "2021-09-02 15:26:55 0.77 0.83 26.72\n",
      "2021-09-02 15:26:58 0.77 0.83 26.72\n",
      "2021-09-02 15:27:01 0.77 0.83 26.73\n",
      "2021-09-02 15:27:04 0.77 0.83 26.73\n",
      "2021-09-02 15:27:07 0.77 0.83 26.73\n",
      "2021-09-02 15:27:10 0.77 0.83 26.72\n",
      "2021-09-02 15:27:13 0.77 0.83 26.72\n",
      "2021-09-02 15:27:16 0.77 0.83 26.72\n",
      "2021-09-02 15:27:19 0.77 0.83 26.72\n",
      "2021-09-02 15:27:22 0.77 0.83 26.72\n",
      "2021-09-02 15:27:25 0.77 0.83 26.72\n",
      "2021-09-02 15:27:28 0.77 0.83 26.72\n",
      "2021-09-02 15:27:31 0.77 0.83 26.72\n",
      "2021-09-02 15:27:34 0.77 0.83 26.72\n",
      "2021-09-02 15:27:37 0.78 0.83 26.72\n",
      "2021-09-02 15:27:40 0.78 0.83 26.72\n",
      "2021-09-02 15:27:43 0.78 0.83 26.72\n",
      "2021-09-02 15:27:46 0.78 0.83 26.72\n",
      "2021-09-02 15:27:49 0.78 0.83 26.72\n",
      "2021-09-02 15:27:52 0.78 0.83 26.72\n",
      "2021-09-02 15:27:55 0.78 0.83 26.72\n",
      "2021-09-02 15:27:58 0.78 0.83 26.72\n",
      "2021-09-02 15:28:01 0.78 0.83 26.71\n",
      "2021-09-02 15:28:04 0.78 0.83 26.71\n",
      "2021-09-02 15:28:07 0.78 0.83 26.71\n",
      "2021-09-02 15:28:10 0.77 0.83 26.71\n",
      "2021-09-02 15:28:13 0.77 0.83 26.72\n",
      "2021-09-02 15:28:16 0.77 0.83 26.71\n",
      "2021-09-02 15:28:19 0.77 0.83 26.71\n",
      "2021-09-02 15:28:22 0.77 0.83 26.72\n",
      "2021-09-02 15:28:25 0.77 0.83 26.72\n",
      "2021-09-02 15:28:28 0.77 0.83 26.72\n",
      "2021-09-02 15:28:31 0.78 0.83 26.74\n",
      "2021-09-02 15:28:34 0.78 0.83 26.73\n",
      "2021-09-02 15:28:37 0.78 0.83 26.73\n",
      "2021-09-02 15:28:40 0.78 0.83 26.73\n",
      "2021-09-02 15:28:43 0.78 0.83 26.73\n",
      "2021-09-02 15:28:46 0.78 0.83 26.73\n",
      "2021-09-02 15:28:49 0.78 0.83 26.73\n",
      "2021-09-02 15:28:52 0.78 0.83 26.73\n",
      "2021-09-02 15:28:55 0.78 0.83 26.74\n",
      "2021-09-02 15:28:58 0.78 0.83 26.73\n",
      "2021-09-02 15:29:01 0.78 0.83 26.72\n",
      "2021-09-02 15:29:04 0.78 0.83 26.72\n",
      "2021-09-02 15:29:07 0.78 0.83 26.72\n",
      "2021-09-02 15:29:10 0.78 0.83 26.73\n",
      "2021-09-02 15:29:13 0.78 0.83 26.74\n",
      "2021-09-02 15:29:16 0.78 0.83 26.73\n",
      "2021-09-02 15:29:19 0.78 0.83 26.73\n",
      "2021-09-02 15:29:22 0.78 0.83 26.74\n",
      "2021-09-02 15:29:25 0.78 0.83 26.73\n",
      "2021-09-02 15:29:28 0.78 0.83 26.73\n",
      "2021-09-02 15:29:31 0.78 0.83 26.72\n",
      "2021-09-02 15:29:34 0.78 0.83 26.72\n",
      "2021-09-02 15:29:37 0.78 0.83 26.72\n",
      "2021-09-02 15:29:40 0.78 0.83 26.73\n"
     ]
    }
   ],
   "metadata": {}
  },
  {
   "cell_type": "code",
   "execution_count": null,
   "source": [],
   "outputs": [],
   "metadata": {}
  }
 ],
 "metadata": {
  "orig_nbformat": 4,
  "language_info": {
   "name": "python",
   "version": "3.9.5",
   "mimetype": "text/x-python",
   "codemirror_mode": {
    "name": "ipython",
    "version": 3
   },
   "pygments_lexer": "ipython3",
   "nbconvert_exporter": "python",
   "file_extension": ".py"
  },
  "kernelspec": {
   "name": "python3",
   "display_name": "Python 3.9.5 64-bit"
  },
  "interpreter": {
   "hash": "b3d3522493934ff0138aee2c6dff330d5dccf278757c2f33119be5c9d92446bf"
  }
 },
 "nbformat": 4,
 "nbformat_minor": 2
}