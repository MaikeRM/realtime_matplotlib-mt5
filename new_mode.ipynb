{
 "cells": [
  {
   "cell_type": "code",
   "execution_count": 1,
   "source": [
    "import random\r\n",
    "from itertools import count\r\n",
    "import pandas as pd\r\n",
    "import matplotlib.pyplot as plt\r\n",
    "from matplotlib.animation import FuncAnimation\r\n",
    "\r\n",
    "plt.style.use('fivethirtyeight')\r\n",
    "\r\n",
    "x_vals = []\r\n",
    "y_vals = []\r\n",
    "\r\n",
    "index = count()"
   ],
   "outputs": [],
   "metadata": {}
  },
  {
   "cell_type": "code",
   "execution_count": 2,
   "source": [
    "def animate(i):\r\n",
    "    data = pd.read_csv('data.csv')\r\n",
    "    x = data['x_value']\r\n",
    "    y1 = data['total_1']\r\n",
    "    y2 = data['total_2']\r\n",
    "\r\n",
    "    plt.cla()\r\n",
    "\r\n",
    "    plt.plot(x, y1, label='Channel 1')\r\n",
    "    plt.plot(x, y2, label='Channel 2')\r\n",
    "\r\n",
    "    plt.legend(loc='upper left')\r\n",
    "    plt.tight_layout()"
   ],
   "outputs": [],
   "metadata": {}
  },
  {
   "cell_type": "code",
   "execution_count": null,
   "source": [
    "ani = FuncAnimation(plt.gcf(), animate, interval=1000)\r\n",
    "\r\n",
    "plt.tight_layout()\r\n",
    "plt.show()"
   ],
   "outputs": [],
   "metadata": {}
  }
 ],
 "metadata": {
  "orig_nbformat": 4,
  "language_info": {
   "name": "python",
   "version": "3.9.5",
   "mimetype": "text/x-python",
   "codemirror_mode": {
    "name": "ipython",
    "version": 3
   },
   "pygments_lexer": "ipython3",
   "nbconvert_exporter": "python",
   "file_extension": ".py"
  },
  "kernelspec": {
   "name": "python3",
   "display_name": "Python 3.9.5 64-bit"
  },
  "interpreter": {
   "hash": "b3d3522493934ff0138aee2c6dff330d5dccf278757c2f33119be5c9d92446bf"
  }
 },
 "nbformat": 4,
 "nbformat_minor": 2
}