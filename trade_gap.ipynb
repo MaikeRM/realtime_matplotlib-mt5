{
 "cells": [
  {
   "cell_type": "code",
   "execution_count": 1,
   "metadata": {},
   "outputs": [
    {
     "name": "stderr",
     "output_type": "stream",
     "text": [
      "c:\\Users\\maike\\anaconda3\\lib\\site-packages\\numpy\\_distributor_init.py:30: UserWarning: loaded more than 1 DLL from .libs:\n",
      "c:\\Users\\maike\\anaconda3\\lib\\site-packages\\numpy\\.libs\\libopenblas.EL2C6PLE4ZYW3ECEVIV3OXXGRN2NRFM2.gfortran-win_amd64.dll\n",
      "c:\\Users\\maike\\anaconda3\\lib\\site-packages\\numpy\\.libs\\libopenblas.PYQHXLVVQ7VESDPUVUADXEVJOBGHJPAY.gfortran-win_amd64.dll\n",
      "  warnings.warn(\"loaded more than 1 DLL from .libs:\"\n"
     ]
    }
   ],
   "source": [
    "import datetime\n",
    "import matplotlib.pyplot as plt\n",
    "import pandas as pd\n",
    "import time\n",
    "from pandas.plotting import register_matplotlib_converters\n",
    "register_matplotlib_converters()\n",
    "import MetaTrader5 as mt5"
   ]
  },
  {
   "cell_type": "code",
   "execution_count": 2,
   "metadata": {},
   "outputs": [],
   "source": [
    "# conecte-se ao MetaTrader 5\n",
    "if not mt5.initialize():\n",
    "    print(\"initialize() failed\")\n",
    "    mt5.shutdown()"
   ]
  },
  {
   "cell_type": "code",
   "execution_count": 190,
   "metadata": {},
   "outputs": [],
   "source": [
    "ativo = 'MGLU3'\n",
    "data = time.time()\n",
    "candles = 5000"
   ]
  },
  {
   "cell_type": "code",
   "execution_count": 191,
   "metadata": {},
   "outputs": [],
   "source": [
    "df = pd.DataFrame(mt5.copy_rates_from(ativo, mt5.TIMEFRAME_M5, data, candles))\n",
    "df['time'] = pd.to_datetime(df['time'], unit='s')"
   ]
  },
  {
   "cell_type": "code",
   "execution_count": 192,
   "metadata": {},
   "outputs": [],
   "source": [
    "dias = [df.time.loc[i].date() for i in range(len(df))]\n",
    "dias = sorted(list(set(dias)))\n",
    "dias = pd.DataFrame(dias, columns=['Datas'])"
   ]
  },
  {
   "cell_type": "code",
   "execution_count": 193,
   "metadata": {},
   "outputs": [
    {
     "name": "stdout",
     "output_type": "stream",
     "text": [
      "6.22 6.15\n",
      "0.01125401929260439\n",
      "2022-03-10\n",
      "5.72 5.8\n",
      "0.013986013986013957\n",
      "2022-03-22\n",
      "6.82 6.92\n",
      "0.014662756598240456\n",
      "2022-04-01\n",
      "6.91 6.8100000000000005\n",
      "0.01447178002894356\n",
      "2022-04-06\n",
      "4.18 4.23\n",
      "0.011961722488038395\n",
      "2022-05-13\n",
      "3.73 3.7800000000000002\n",
      "0.013404825737265424\n",
      "2022-05-20\n",
      "3.67 3.71\n",
      "0.01089918256130784\n",
      "2022-05-23\n"
     ]
    }
   ],
   "source": [
    "for i, t in enumerate(df.time):\n",
    "    if t.hour == 16 and t.minute == 50:\n",
    "        date_c = df.loc[i]['time'].date()\n",
    "        close = df.loc[i]['close']\n",
    "\n",
    "    if t.hour == 10 and t.minute == 00:\n",
    "        open_ = df.loc[i]['open']\n",
    "        date_o = df.loc[i]['time'].date()\n",
    "\n",
    "        if (abs(open_/close -1) and abs(close/open_ -1) > 0.01):\n",
    "            for j, d in enumerate(dias['Datas']):\n",
    "                if d == date_c:\n",
    "                    next_day  = dias['Datas'].loc[j+1]\n",
    "\n",
    "                    if next_day == date_o:\n",
    "                        print(df.loc[i]['time'].date())"
   ]
  },
  {
   "cell_type": "code",
   "execution_count": 11,
   "metadata": {},
   "outputs": [
    {
     "data": {
      "text/plain": [
       "3.85"
      ]
     },
     "execution_count": 11,
     "metadata": {},
     "output_type": "execute_result"
    }
   ],
   "source": [
    "\n",
    "mt5.symbol_info_tick(ativo).last"
   ]
  }
 ],
 "metadata": {
  "kernelspec": {
   "display_name": "Python 3.8.8 ('base')",
   "language": "python",
   "name": "python3"
  },
  "language_info": {
   "codemirror_mode": {
    "name": "ipython",
    "version": 3
   },
   "file_extension": ".py",
   "mimetype": "text/x-python",
   "name": "python",
   "nbconvert_exporter": "python",
   "pygments_lexer": "ipython3",
   "version": "3.8.8"
  },
  "orig_nbformat": 4,
  "vscode": {
   "interpreter": {
    "hash": "5c0014d7bdea8e8a3a940a8951e0e4dbb3d2b571e022e3cbf52dd9dc692d11f7"
   }
  }
 },
 "nbformat": 4,
 "nbformat_minor": 2
}
